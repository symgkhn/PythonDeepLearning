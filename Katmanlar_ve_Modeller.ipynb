{
  "nbformat": 4,
  "nbformat_minor": 0,
  "metadata": {
    "colab": {
      "name": "Katmanlar ve Modeller.ipynb",
      "provenance": [],
      "authorship_tag": "ABX9TyMRq61kAVOhh0v6POymqyQQ",
      "include_colab_link": true
    },
    "kernelspec": {
      "name": "python3",
      "display_name": "Python 3"
    },
    "language_info": {
      "name": "python"
    }
  },
  "cells": [
    {
      "cell_type": "markdown",
      "metadata": {
        "id": "view-in-github",
        "colab_type": "text"
      },
      "source": [
        "<a href=\"https://colab.research.google.com/github/symgkhn/PythonDeepLearning/blob/main/Katmanlar_ve_Modeller.ipynb\" target=\"_parent\"><img src=\"https://colab.research.google.com/assets/colab-badge.svg\" alt=\"Open In Colab\"/></a>"
      ]
    },
    {
      "cell_type": "markdown",
      "metadata": {
        "id": "6O3p4MsTGHKH"
      },
      "source": [
        "KATMANLAR"
      ]
    },
    {
      "cell_type": "code",
      "metadata": {
        "id": "JItsG-8hFr8Y"
      },
      "source": [
        "from keras import layers"
      ],
      "execution_count": 1,
      "outputs": []
    },
    {
      "cell_type": "code",
      "metadata": {
        "id": "t10En7uWFyKZ"
      },
      "source": [
        "layer = layers.Dense(32, input_shape = (784, ))"
      ],
      "execution_count": 2,
      "outputs": []
    },
    {
      "cell_type": "markdown",
      "metadata": {
        "id": "0aYH1i5EGMF-"
      },
      "source": [
        "MODELLER"
      ]
    },
    {
      "cell_type": "code",
      "metadata": {
        "id": "BlMOf7wmGBao"
      },
      "source": [
        "from keras import models"
      ],
      "execution_count": 3,
      "outputs": []
    },
    {
      "cell_type": "code",
      "metadata": {
        "id": "TBXmqRB1GP1f"
      },
      "source": [
        "model = models.Sequential()\n",
        "model.add(layers.Dense(32, input_shape=(784, )))\n",
        "model.add(layers.Dense(32))"
      ],
      "execution_count": 5,
      "outputs": []
    },
    {
      "cell_type": "code",
      "metadata": {
        "colab": {
          "base_uri": "https://localhost:8080/"
        },
        "id": "DMTmnGaAGhX4",
        "outputId": "e360e076-8eef-411c-c6ca-0035b64d3227"
      },
      "source": [
        "model.summary()"
      ],
      "execution_count": 7,
      "outputs": [
        {
          "output_type": "stream",
          "text": [
            "Model: \"sequential_1\"\n",
            "_________________________________________________________________\n",
            "Layer (type)                 Output Shape              Param #   \n",
            "=================================================================\n",
            "dense_1 (Dense)              (None, 32)                25120     \n",
            "_________________________________________________________________\n",
            "dense_2 (Dense)              (None, 32)                1056      \n",
            "=================================================================\n",
            "Total params: 26,176\n",
            "Trainable params: 26,176\n",
            "Non-trainable params: 0\n",
            "_________________________________________________________________\n"
          ],
          "name": "stdout"
        }
      ]
    },
    {
      "cell_type": "code",
      "metadata": {
        "id": "RDdF_b9XGpWr"
      },
      "source": [
        ""
      ],
      "execution_count": null,
      "outputs": []
    }
  ]
}